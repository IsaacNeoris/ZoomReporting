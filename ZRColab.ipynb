{
  "cells": [
    {
      "cell_type": "code",
      "execution_count": null,
      "id": "w9qzEzTQflJs",
      "metadata": {
        "colab": {
          "base_uri": "https://localhost:8080/"
        },
        "id": "w9qzEzTQflJs",
        "outputId": "fdfcfe1d-1a65-48b6-a4f3-722182623fd6"
      },
      "outputs": [],
      "source": [
        "from google.colab import drive\n",
        "drive.mount('/content/drive')"
      ]
    },
    {
      "cell_type": "code",
      "execution_count": null,
      "id": "c31704c7",
      "metadata": {
        "colab": {
          "base_uri": "https://localhost:8080/"
        },
        "id": "c31704c7",
        "outputId": "db3c6839-4da5-40bd-b514-1f5bd4bcba74"
      },
      "outputs": [],
      "source": [
        "!pip install authlib"
      ]
    },
    {
      "cell_type": "code",
      "execution_count": null,
      "id": "c6fb9c1e",
      "metadata": {
        "colab": {
          "base_uri": "https://localhost:8080/"
        },
        "id": "c6fb9c1e",
        "outputId": "a2e31868-51d6-452f-86a3-184b2eade2ec"
      },
      "outputs": [],
      "source": [
        "!pip install --upgrade google-api-python-client"
      ]
    },
    {
      "cell_type": "code",
      "execution_count": null,
      "id": "0a88bccb",
      "metadata": {
        "id": "0a88bccb"
      },
      "outputs": [],
      "source": [
        "import os\n",
        "import time\n",
        "import requests\n",
        "import pandas as pd\n",
        "import numpy as np\n",
        "\n",
        "from pandas import DataFrame\n",
        "from typing import List\n",
        "from typing import Optional, Dict, Union, Any\n",
        "from requests import Response\n",
        "from authlib.jose import jwt\n",
        "from google.oauth2 import service_account\n",
        "from googleapiclient import discovery"
      ]
    },
    {
      "cell_type": "code",
      "execution_count": null,
      "id": "0f34d26c",
      "metadata": {
        "id": "0f34d26c"
      },
      "outputs": [],
      "source": [
        "ZAPI_KEY=\"ZOOM API KEY\"\n",
        "ZAPI_SECRET=\"ZOOM API SECRET\"\n",
        "ZMEETING_ID=\"ZOOM MEETING ID\"\n",
        "ZMEETINGCLASS=\"CLASS NAME\"\n",
        "RUBRIC=RUBRIC\n",
        "DFOLDER=\"ONLINE FOLDER\"\n",
        "SERVICE_FILE= \"SERVICE FILE\"\n",
        "SCOPES= [\"https://www.googleapis.com/auth/drive\", \"https://www.googleapis.com/auth/drive.file\"]"
      ]
    },
    {
      "cell_type": "code",
      "execution_count": null,
      "id": "29ba2d07",
      "metadata": {
        "id": "29ba2d07"
      },
      "outputs": [],
      "source": [
        "class Zoom:\n",
        "    def __init__(self, key: str, secret: str):\n",
        "        self.key = ZAPI_KEY\n",
        "        self.secret = ZAPI_SECRET\n",
        "        self.base_url = \"https://api.zoom.us/v2\"\n",
        "        self.reports_url = f\"{self.base_url}/report/meetings\"\n",
        "        self.jwt_token_exp = 5400\n",
        "        self.jwt_token_algo = \"HS256\"\n",
        "\n",
        "    def get_meeting_participants(self, meeting_id: str, jwt_token: bytes,\n",
        "                                 next_page_token: Optional[str] = None) -> Response:\n",
        "        url: str = f\"{self.reports_url}/{meeting_id}/participants\"\n",
        "        query_params: Dict[str, Union[int, str]] = {\"page_size\": 300}\n",
        "        if next_page_token:\n",
        "            query_params.update({\"next_page_token\": next_page_token})\n",
        "\n",
        "        r: Response = requests.get(url,\n",
        "                                   headers={\"Authorization\": f\"Bearer {jwt_token.decode('utf-8')}\"},\n",
        "                                   params=query_params)\n",
        "\n",
        "        return r\n",
        "\n",
        "    def generate_jwt_token(self) -> bytes:\n",
        "        iat = int(time.time())\n",
        "\n",
        "        jwt_payload: Dict[str, Any] = {\n",
        "            \"aud\": None,\n",
        "            \"iss\": self.key,\n",
        "            \"exp\": iat + self.jwt_token_exp,\n",
        "            \"iat\": iat\n",
        "        }\n",
        "\n",
        "        header: Dict[str, str] = {\"alg\": self.jwt_token_algo}\n",
        "\n",
        "        jwt_token: bytes = jwt.encode(header, jwt_payload, self.secret)\n",
        "\n",
        "        return jwt_token"
      ]
    },
    {
      "cell_type": "code",
      "execution_count": null,
      "id": "ae05daf1",
      "metadata": {
        "id": "ae05daf1"
      },
      "outputs": [],
      "source": [
        "class Googl:\n",
        "    def __init__(self, service_file: str, scopes: List[str]):\n",
        "        self.service_file = \"SERVICE FILE\"\n",
        "        self.scopes = scopes\n",
        "        self.google_sheet_type = \"application/vnd.google-apps.spreadsheet\"\n",
        "        self.creds = service_account.Credentials.from_service_account_file(self.service_file,\n",
        "                                                                           scopes=self.scopes)\n",
        "        self.drive = discovery.build(\"drive\", \"v3\", credentials=self.creds)\n",
        "        self.sheets = discovery.build(\"sheets\", \"v4\", credentials=self.creds)\n",
        "\n",
        "    def get_folder_id(self, folder_name: str) -> str:\n",
        "        folders: dict = self.drive.files().list(q=\"mimeType='application/vnd.google-apps.folder'\").execute()\n",
        "        folder_id = [x.get(\"id\") for x in folders.get(\"files\") if x.get(\"name\") == folder_name]\n",
        "\n",
        "        return folder_id[0]\n",
        "\n",
        "    def create_new_sheet(self, fname: str, pfolder_id: str) -> str:\n",
        "        new_sheet_metadata = {\n",
        "            \"name\": fname,\n",
        "            \"parents\": [pfolder_id],\n",
        "            \"mimeType\": self.google_sheet_type\n",
        "        }\n",
        "\n",
        "        new_sheet = self.drive.files().create(body=new_sheet_metadata).execute()\n",
        "\n",
        "        return new_sheet.get(\"id\")\n",
        "\n",
        "    def insert_df_to_sheet(self, google_sheet_id: str, df: DataFrame) -> dict:\n",
        "        response = self.sheets.spreadsheets().values().append(\n",
        "            spreadsheetId=google_sheet_id,\n",
        "            valueInputOption=\"RAW\",\n",
        "            range=\"A1\",\n",
        "            body={\"majorDimension\": \"ROWS\",\n",
        "                  \"values\": df.T.reset_index().T.values.tolist()}\n",
        "        ).execute()\n",
        "\n",
        "        return response\n",
        "\n",
        "    def get_sheet_link(self, google_sheet_id: str,\n",
        "                       return_all_fields: bool = False, fields_to_return: str = \"webViewLink\"):\n",
        "        fields = \"*\" if return_all_fields else fields_to_return\n",
        "        response = self.drive.files().get(fileId=google_sheet_id, fields=fields).execute()\n",
        "\n",
        "        return response"
      ]
    },
    {
      "cell_type": "code",
      "execution_count": null,
      "id": "63b369e1",
      "metadata": {
        "colab": {
          "base_uri": "https://localhost:8080/"
        },
        "id": "63b369e1",
        "outputId": "1272b27f-fab3-4ead-8590-3dbf106ff7a6"
      },
      "outputs": [],
      "source": [
        "if __name__ == \"__main__\":\n",
        "    zoom = Zoom(ZAPI_KEY, ZAPI_SECRET)\n",
        "\n",
        "    jwt_token: bytes = zoom.generate_jwt_token()\n",
        "    response: Response = zoom.get_meeting_participants(ZMEETING_ID, jwt_token)\n",
        "    list_of_participants: List[dict] = response.json().get(\"participants\")\n",
        "\n",
        "    while response.json().get(\"next_page_token\"):\n",
        "        token = response.json().get(\"next_page_token\")\n",
        "        response = zoom.get_meeting_participants(ZMEETING_ID, jwt_token, token)\n",
        "        list_of_participants += response.json().get(\"participants\")\n",
        "\n",
        "    df: DataFrame = pd.DataFrame(list_of_participants).drop(columns=[\"attentiveness_score\"])\n",
        "    df.join_time = pd.to_datetime(df.join_time).dt.tz_convert(\"US/Central\")\n",
        "    df.leave_time = pd.to_datetime(df.leave_time).dt.tz_convert(\"US/Central\")\n",
        "\n",
        "    df.sort_values([\"id\", \"name\", \"join_time\"], inplace=True)\n",
        "\n",
        "    output_df: DataFrame = df.groupby([\"name\"]) \\\n",
        "        .agg({\"duration\": [\"sum\"], \"join_time\": [\"min\"], \"leave_time\": [\"max\"]}) \\\n",
        "        .reset_index() \\\n",
        "        .rename(columns={\"duration\": \"Tiempoenclase\", \"name\":\"Nombre\",\"join_time\":\"Ingreso\",\"leave_time\":\"Salida\"})\n",
        "\n",
        "    output_df.columns = output_df.columns.get_level_values(0)\n",
        "\n",
        "    output_df.Tiempoenclase = round(output_df.Tiempoenclase / 60, 2)\n",
        "\n",
        "    output_df.Ingreso = output_df.Ingreso.dt.strftime(\"%Y-%m-%d %H:%M:%S\")\n",
        "    output_df.Salida = output_df.Salida.dt.strftime(\"%Y-%m-%d %H:%M:%S\")\n",
        "    \n",
        "    output_df['Asistencia']=np.where(output_df['Tiempoenclase'] >= RUBRIC,'Asistencia','Tiempo insuficiente')\n",
        "\n",
        "    meeting_date: str = output_df.Ingreso.tolist()[0].split(\" \")[0]\n",
        "\n",
        "    output_file: str = f\"report_{meeting_date}\"\n",
        "    output_file= ZMEETINGCLASS+\"_\"+output_file\n",
        "\n",
        "    googl = Googl(SERVICE_FILE, SCOPES)\n",
        "\n",
        "    zoom_folder_id: str = googl.get_folder_id(DFOLDER)\n",
        "    sheet_id = googl.create_new_sheet(output_file, zoom_folder_id)\n",
        "    result = googl.insert_df_to_sheet(sheet_id, output_df)\n",
        "    sheet_link = googl.get_sheet_link(result.get(\"spreadsheetId\"))\n",
        "\n",
        "    print(f\"Reporte de asistencia listo en GDrive.\\n\"\n",
        "          f\"link: {sheet_link}\")"
      ]
    },
    {
      "cell_type": "code",
      "execution_count": null,
      "id": "H8YnKMeZmANh",
      "metadata": {
        "id": "H8YnKMeZmANh"
      },
      "outputs": [],
      "source": []
    }
  ],
  "metadata": {
    "colab": {
      "name": "ZRpythonfund.ipynb",
      "provenance": []
    },
    "kernelspec": {
      "display_name": "Python 3 (ipykernel)",
      "language": "python",
      "name": "python3"
    },
    "language_info": {
      "codemirror_mode": {
        "name": "ipython",
        "version": 3
      },
      "file_extension": ".py",
      "mimetype": "text/x-python",
      "name": "python",
      "nbconvert_exporter": "python",
      "pygments_lexer": "ipython3",
      "version": "3.9.7"
    }
  },
  "nbformat": 4,
  "nbformat_minor": 5
}
